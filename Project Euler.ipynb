{
 "cells": [
  {
   "cell_type": "code",
   "execution_count": 1,
   "id": "aaaf7297",
   "metadata": {},
   "outputs": [
    {
     "name": "stdout",
     "output_type": "stream",
     "text": [
      "233168\n"
     ]
    }
   ],
   "source": [
    "# Problem 1\n",
    "sum = 0\n",
    "for i in range(1000):\n",
    "    if i%3 == 0 or i%5 == 0:\n",
    "        sum += i\n",
    "print(sum)"
   ]
  },
  {
   "cell_type": "code",
   "execution_count": 9,
   "id": "d2cfce4d",
   "metadata": {},
   "outputs": [
    {
     "name": "stdout",
     "output_type": "stream",
     "text": [
      "4613732\n"
     ]
    }
   ],
   "source": [
    "# Problem 2\n",
    "next = 0\n",
    "fib = [1,2]\n",
    "sum = 2\n",
    "while True:\n",
    "    next = fib[-1] + fib[-2]\n",
    "    if next >= 4000000:\n",
    "        break\n",
    "    else:\n",
    "        fib.append(next)\n",
    "        if next%2 == 0: \n",
    "            sum += next\n",
    "#print(fib)\n",
    "print(sum)"
   ]
  },
  {
   "cell_type": "code",
   "execution_count": 32,
   "id": "a0ddc627",
   "metadata": {},
   "outputs": [
    {
     "name": "stdout",
     "output_type": "stream",
     "text": [
      "6857\n"
     ]
    }
   ],
   "source": [
    "# Problem 3\n",
    "n = 600851475143\n",
    "s = math.floor(math.sqrt(n))\n",
    "greatestfactor = n\n",
    "for i in range(s,1,-1):\n",
    "    if not n%i == 0:\n",
    "        continue\n",
    "    isprime = True\n",
    "    s_i = math.floor(math.sqrt(i))\n",
    "    for j in range(s_i,1,-1):\n",
    "        if i%j == 0:\n",
    "            isprime = False\n",
    "            break\n",
    "    if isprime:\n",
    "        greatestfactor = i\n",
    "        break\n",
    "print(greatestfactor)\n",
    "        "
   ]
  },
  {
   "cell_type": "code",
   "execution_count": 48,
   "id": "9ed1ddd1",
   "metadata": {},
   "outputs": [
    {
     "name": "stdout",
     "output_type": "stream",
     "text": [
      "906609\n"
     ]
    }
   ],
   "source": [
    "# Problem 4\n",
    "def is_palindrome(num):\n",
    "    strnum = str(num)\n",
    "    return strnum == strnum[-1::-1]\n",
    "\n",
    "maxprod = 1\n",
    "for i in range(900,1000):\n",
    "    for j in range(900,1000):\n",
    "        prod = i*j\n",
    "        if prod > maxprod:\n",
    "            if is_palindrome(prod):\n",
    "                maxprod = prod\n",
    "                \n",
    "print(maxprod)"
   ]
  },
  {
   "cell_type": "code",
   "execution_count": null,
   "id": "43143c25",
   "metadata": {},
   "outputs": [],
   "source": [
    "# Problem 5\n",
    "b = 19 * 17 * 13 * 11 * 7 * 5 * 9 * 16\n",
    "print(b)"
   ]
  },
  {
   "cell_type": "code",
   "execution_count": 50,
   "id": "ab414450",
   "metadata": {},
   "outputs": [
    {
     "name": "stdout",
     "output_type": "stream",
     "text": [
      "232792560\n"
     ]
    }
   ],
   "source": [
    "# Problem 6\n",
    "sum1 = 0\n",
    "sum2 = 0\n",
    "for i in range(1,101):\n",
    "    sum1 += i*i\n",
    "    sum2 += i\n",
    "print(sum2*sum2 - sum1)"
   ]
  },
  {
   "cell_type": "code",
   "execution_count": 77,
   "id": "50a6befd",
   "metadata": {},
   "outputs": [
    {
     "name": "stdout",
     "output_type": "stream",
     "text": [
      "104743\n"
     ]
    }
   ],
   "source": [
    "# Problem 7\n",
    "import math\n",
    "def isprime(num):\n",
    "    if num == 1:\n",
    "        return False\n",
    "    prime = True\n",
    "    for i in range(2,math.floor(math.sqrt(num))+1):\n",
    "        if num % i == 0:\n",
    "            return False\n",
    "    return prime\n",
    "\n",
    "\n",
    "primecount = 0\n",
    "num = 1\n",
    "while primecount < 10001:\n",
    "    if isprime(num):\n",
    "        primecount += 1\n",
    "    if primecount == 10001:\n",
    "        answer = num\n",
    "    num += 1\n",
    "print(answer)\n"
   ]
  },
  {
   "cell_type": "code",
   "execution_count": 1,
   "id": "7cbde8dd",
   "metadata": {},
   "outputs": [
    {
     "name": "stdout",
     "output_type": "stream",
     "text": [
      "23514624000\n"
     ]
    }
   ],
   "source": [
    "# Problem 8\n",
    "a = '7316717653133062491922511967442657474235534919493496983520312774506326239578318016984801869478851843858615607891129494954595017379583319528532088055111254069874715852386305071569329096329522744304355766896648950445244523161731856403098711121722383113622298934233803081353362766142828064444866452387493035890729629049156044077239071381051585930796086670172427121883998797908792274921901699720888093776657273330010533678812202354218097512545405947522435258490771167055601360483958644670632441572215539753697817977846174064955149290862569321978468622482839722413756570560574902614079729686524145351004748216637048440319989000889524345065854122758866688116427171479924442928230863465674813919123162824586178664583591245665294765456828489128831426076900422421902267105562632111110937054421750694165896040807198403850962455444362981230987879927244284909188845801561660979191338754992005240636899125607176060588611646710940507754100225698315520005593572972571636269561882670428252483600823257530420752963450'\n",
    "maxprod = 1\n",
    "len = 13\n",
    "for i in range(0,1001-len):\n",
    "    product = 1\n",
    "    numslice = a[i:i+len+1]\n",
    "    for j in range(0,len):\n",
    "        product *= int(numslice[j])\n",
    "    if product > maxprod:\n",
    "        maxprod = product\n",
    "print(maxprod)"
   ]
  },
  {
   "cell_type": "code",
   "execution_count": 4,
   "id": "f6c62670",
   "metadata": {},
   "outputs": [
    {
     "name": "stdout",
     "output_type": "stream",
     "text": [
      "200 375 425 31875000\n",
      "375 200 425 31875000\n",
      "40000 140625 180625\n"
     ]
    },
    {
     "data": {
      "text/plain": [
       "<function print>"
      ]
     },
     "execution_count": 4,
     "metadata": {},
     "output_type": "execute_result"
    }
   ],
   "source": [
    "# Problem 9\n",
    "#\n",
    "# a^2 + b^2 = c^2, a + b + c = 1000\n",
    "# c = 1000-a-b\n",
    "# a^2 + b^2 = (1000-(a+b))^2\n",
    "#           = 1,000,000 - 2000*(a+b) +(a+b)^2\n",
    "# a^2 + b^2 + 2000*(a+b) - (a+b)^2 = 1,000,000\n",
    "\n",
    "def prob9check(a,b):\n",
    "    return 1000000 == a*a + b*b + 2000*(a+b) - (a+b)^2\n",
    "a_answer = 0\n",
    "b_answer = 0\n",
    "\n",
    "for a in range(1,1000):\n",
    "    for b in range(1,1000):\n",
    "        c = 1000 - a - b\n",
    "        if (a*a + b*b)==c*c: print(a,b,c,a*b*c)\n",
    "\n",
    "print(200**2,375**2,425**2)\n",
    "\n",
    "print"
   ]
  },
  {
   "cell_type": "code",
   "execution_count": 87,
   "id": "5f23af43",
   "metadata": {
    "scrolled": false
   },
   "outputs": [
    {
     "name": "stdout",
     "output_type": "stream",
     "text": [
      "142913828922\n"
     ]
    }
   ],
   "source": [
    "# Problem 10\n",
    "def isprime(num):\n",
    "    if num == 1:\n",
    "        return False\n",
    "    prime = True\n",
    "    for i in range(2,math.floor(math.sqrt(num))+1):\n",
    "        if num % i == 0:\n",
    "            return False\n",
    "    return prime\n",
    "sum = 0\n",
    "\n",
    "for i in range(1,2000000):\n",
    "    if isprime(i):\n",
    "        sum+=i\n",
    "print(sum)"
   ]
  },
  {
   "cell_type": "code",
   "execution_count": 1,
   "id": "fc313d47",
   "metadata": {},
   "outputs": [
    {
     "name": "stdout",
     "output_type": "stream",
     "text": [
      "70600674\n",
      "seconds:  0.019040584564208984\n"
     ]
    }
   ],
   "source": [
    "# Problem 11\n",
    "# [need to read from site]\n",
    "import time\n",
    "start_time = time.time()\n",
    "f = open('euler11','r')\n",
    "txt = f.read()\n",
    "txtlines = txt.split('\\n')\n",
    "mtx = [i.split(' ') for i in txtlines]\n",
    "maxprod = 1\n",
    "#horizontal\n",
    "for i in range(0,17):\n",
    "    for j in range(0,20):\n",
    "        prod = 1\n",
    "        for k in range(0,4):\n",
    "            prod *= int(mtx[j][i+k])\n",
    "        if prod > maxprod:\n",
    "            maxprod = prod\n",
    "#vertical\n",
    "for i in range(0,17):\n",
    "    for j in range(0,20):\n",
    "        prod = 1\n",
    "        for k in range(0,4):\n",
    "            prod *= int(mtx[i+k][j])\n",
    "        if prod > maxprod:\n",
    "            maxprod = prod\n",
    "#diagonals\n",
    "for i in range(0,17):\n",
    "    for j in range(0,17):\n",
    "        prod = 1\n",
    "        for k in range(0,4):\n",
    "            prod *= int(mtx[i+k][j+k])\n",
    "        if prod > maxprod:\n",
    "            maxprod = prod\n",
    "for i in range(3,20):\n",
    "    for j in range(0,17):\n",
    "        prod = 1\n",
    "        for k in range(0,4):\n",
    "            prod *= int(mtx[i-k][j+k])\n",
    "        if prod > maxprod:\n",
    "            maxprod = prod\n",
    "print(maxprod)\n",
    "print('seconds: ',time.time()-start_time)"
   ]
  },
  {
   "cell_type": "code",
   "execution_count": 54,
   "id": "1f0af77b",
   "metadata": {},
   "outputs": [
    {
     "name": "stdout",
     "output_type": "stream",
     "text": [
      "76576500\n"
     ]
    }
   ],
   "source": [
    "# Problem 12\n",
    "def numdivisors(num):\n",
    "    divisors = 0\n",
    "    for i in range(1,(num+2)//2):\n",
    "        if i*i > num: break\n",
    "        if num%i == 0:\n",
    "            divisors += 2\n",
    "    return divisors\n",
    "tri = 0\n",
    "\n",
    "for n in range(1,100000):\n",
    "    tri += n\n",
    "#    print(tri,numdivisors(tri))\n",
    "    if numdivisors(tri)>500: \n",
    "        print(tri)\n",
    "        break"
   ]
  },
  {
   "cell_type": "code",
   "execution_count": 43,
   "id": "c2b0e280",
   "metadata": {
    "scrolled": true
   },
   "outputs": [
    {
     "name": "stdout",
     "output_type": "stream",
     "text": [
      "5537376230342\n",
      "Seconds:  0.0006546974182128906\n"
     ]
    }
   ],
   "source": [
    "# Problem 13\n",
    "import time\n",
    "start_time = time.time()\n",
    "f = open('euler13.txt','r')\n",
    "txt = f.read()\n",
    "txtlines = txt.split('\\n')\n",
    "sum = 0\n",
    "for line in txtlines:\n",
    "    num = int(line[:11])\n",
    "    sum += num\n",
    "print(sum)\n",
    "print('Seconds: ',time.time()-start_time)"
   ]
  },
  {
   "cell_type": "code",
   "execution_count": 23,
   "id": "83a1b14c",
   "metadata": {},
   "outputs": [
    {
     "name": "stdout",
     "output_type": "stream",
     "text": [
      "837799\n",
      "Seconds:  22.56861925125122\n"
     ]
    }
   ],
   "source": [
    "# Problem 14\n",
    "import time\n",
    "start_time = time.time()\n",
    "def collatz_length(num):\n",
    "    length = 1\n",
    "    while num != 1:\n",
    "        length += 1\n",
    "        if num%2 == 0:\n",
    "            num /= 2\n",
    "        else:\n",
    "            num = num*3 + 1\n",
    "    return length\n",
    "answer = 1\n",
    "length = 1\n",
    "for i in range(500000,1000001):\n",
    "    templen = collatz_length(i)\n",
    "    if templen > length:\n",
    "        length = templen\n",
    "        answer = i\n",
    "print(answer)\n",
    "print('Seconds: ',time.time()-start_time)"
   ]
  },
  {
   "cell_type": "code",
   "execution_count": 129,
   "id": "db0b8e89",
   "metadata": {},
   "outputs": [
    {
     "data": {
      "text/plain": [
       "137846528820.0"
      ]
     },
     "execution_count": 129,
     "metadata": {},
     "output_type": "execute_result"
    }
   ],
   "source": [
    "# Problem 15\n",
    "# 40 choose 20\n",
    "n = 40\n",
    "k = 20\n",
    "math.factorial(n) / (math.factorial(k) * math.factorial(k))"
   ]
  },
  {
   "cell_type": "code",
   "execution_count": 79,
   "id": "de6bed46",
   "metadata": {
    "scrolled": true
   },
   "outputs": [
    {
     "name": "stdout",
     "output_type": "stream",
     "text": [
      "1366\n"
     ]
    }
   ],
   "source": [
    "# Problem 16\n",
    "n = 1000\n",
    "a = 2 ** n\n",
    "stra = str(a)\n",
    "sum = 0\n",
    "for i in stra:\n",
    "    sum += int(i)\n",
    "print(sum)"
   ]
  },
  {
   "cell_type": "code",
   "execution_count": 2,
   "id": "969c8dee",
   "metadata": {
    "scrolled": true
   },
   "outputs": [
    {
     "name": "stdout",
     "output_type": "stream",
     "text": [
      "21124\n",
      "0.01704263687133789\n"
     ]
    }
   ],
   "source": [
    "# Problem 17\n",
    "import time\n",
    "start_time = time.time()\n",
    "def lettersinnum(num):\n",
    "    numdict = {0:0,1:3,2:3,3:5,4:4,5:4,6:3,7:5,8:5,9:4,10:3}\n",
    "    numdict.update({11:6,12:6,13:8,14:8,15:7,16:7,17:9,18:8,19:8})\n",
    "    numdict.update({20:6,30:6,40:5,50:5,60:5,70:7,80:6,90:6,100:7,'and':3})\n",
    "    if num < 21:\n",
    "        return numdict[num]\n",
    "    if num == 1000:\n",
    "        return 11\n",
    "    if num%100 == 0:\n",
    "        return numdict[100] + numdict[num//100]\n",
    "    letters = 0\n",
    "    if num > 100:\n",
    "        letters += numdict['and']\n",
    "        letters += numdict[num//100] #hundreds place\n",
    "        letters += numdict[100]\n",
    "    remainder = num%100\n",
    "    if remainder < 21:\n",
    "        letters += numdict[remainder]\n",
    "    else:\n",
    "        letters += numdict[remainder-remainder%10]\n",
    "        letters += numdict[remainder%10]\n",
    "    return letters\n",
    "\n",
    "letters = 0\n",
    "for i in range(1,1001):\n",
    "    letters += lettersinnum(i)\n",
    "print(letters)\n",
    "print(time.time()-start_time)"
   ]
  },
  {
   "cell_type": "code",
   "execution_count": 3,
   "id": "84aac40b",
   "metadata": {},
   "outputs": [
    {
     "name": "stdout",
     "output_type": "stream",
     "text": [
      "1074\n",
      "0.16298198699951172\n"
     ]
    }
   ],
   "source": [
    "# Problem 18\n",
    "import time\n",
    "start_time = time.time()\n",
    "def binary(base10):\n",
    "    lst = [0 for i in range(0,14)]\n",
    "    indx = 13\n",
    "    while base10 > 0:\n",
    "        lst[indx] = base10%2\n",
    "        base10 //= 2\n",
    "        indx += -1\n",
    "    return lst\n",
    "\n",
    "f = open('euler18','r')\n",
    "txt = f.read()\n",
    "txtlines = txt.split('\\n')\n",
    "mtx = [i.split(' ') for i in txtlines]\n",
    "for i in range(15):\n",
    "    for j in range(len(mtx[i])):\n",
    "        mtx[i][j] = int(mtx[i][j])\n",
    "maxsum = 0\n",
    "for i in range(0,16384):\n",
    "    path = binary(i)\n",
    "    sum = 75\n",
    "    indx = 0\n",
    "    for j in range(1,15):\n",
    "        indx += path[j-1]\n",
    "        sum += mtx[j][indx]\n",
    "    if sum > maxsum:\n",
    "        maxsum = sum\n",
    "print(maxsum)\n",
    "print(time.time()-start_time)"
   ]
  },
  {
   "cell_type": "code",
   "execution_count": 46,
   "id": "bb1454bb",
   "metadata": {},
   "outputs": [
    {
     "name": "stdout",
     "output_type": "stream",
     "text": [
      "171\n"
     ]
    }
   ],
   "source": [
    "# Problem 19\n",
    "# date = [year,mon,day,day of week] in integers (sunday = 0,saturday=6)\n",
    "import datetime as dt\n",
    "\n",
    "day = dt.timedelta(days=1)\n",
    "startdate = dt.date(1901,1,1)\n",
    "d = startdate\n",
    "n = 0\n",
    "while True:\n",
    "    if (d.isoweekday()==7 and d.day==1):\n",
    "        n += 1\n",
    "    d = d + day\n",
    "    if d.year == 2001: break\n",
    "    \n",
    "    \n",
    "print(n)\n"
   ]
  },
  {
   "cell_type": "code",
   "execution_count": 48,
   "id": "6d9c2353",
   "metadata": {},
   "outputs": [
    {
     "name": "stdout",
     "output_type": "stream",
     "text": [
      "648\n"
     ]
    }
   ],
   "source": [
    "# Problem 20\n",
    "import math\n",
    "x = str(math.factorial(100))\n",
    "sum = 0\n",
    "for i in x:\n",
    "    sum += int(i)\n",
    "print(sum)"
   ]
  },
  {
   "cell_type": "code",
   "execution_count": 57,
   "id": "22f8453c",
   "metadata": {},
   "outputs": [
    {
     "name": "stdout",
     "output_type": "stream",
     "text": [
      "220\n",
      "284\n",
      "1184\n",
      "1210\n",
      "2620\n",
      "2924\n",
      "5020\n",
      "5564\n",
      "6232\n",
      "6368\n",
      "31626\n"
     ]
    }
   ],
   "source": [
    "# Problem 21\n",
    "def sumdivisors(num):\n",
    "    sumd = 0\n",
    "    for i in range(1,num//2+1):\n",
    "        if num%i == 0: sumd+=i\n",
    "    return sumd\n",
    "suma = 0\n",
    "for i in range(3,10000):\n",
    "    d = sumdivisors(i)\n",
    "    if d < 10000 and sumdivisors(d) == i and d!=i:\n",
    "        print(i)\n",
    "        suma += i\n",
    "print(suma)"
   ]
  },
  {
   "cell_type": "code",
   "execution_count": 4,
   "id": "36fc5d66",
   "metadata": {},
   "outputs": [
    {
     "name": "stdout",
     "output_type": "stream",
     "text": [
      "COLIN\n",
      "53\n",
      "871198282\n"
     ]
    }
   ],
   "source": [
    "# Problem 22\n",
    "def name_points(name):\n",
    "    letters = {'A':1,'B':2,'C':3,'D':4,'E':5,'F':6,'G':7}\n",
    "    letters.update({'H':8,'I':9,'J':10,'K':11,'L':12,'M':13})\n",
    "    letters.update({'N':14,'O':15,'P':16,'Q':17,'R':18,'S':19})\n",
    "    letters.update({'T':20,'U':21,'V':22,'W':23,'X':24,'Y':25,'Z':26})\n",
    "    sump = 0\n",
    "    for i in name:\n",
    "        sump += letters[i]\n",
    "    return sump\n",
    "\n",
    "f = open('euler22','r')\n",
    "temp = f.read()\n",
    "txt = temp.replace('\\\"','')\n",
    "name_list = txt.split(',')\n",
    "name_list.sort()\n",
    "sum = 0\n",
    "print(name_list[937])\n",
    "print(name_points(name_list[937]))\n",
    "for i in range(0,len(name_list)):\n",
    "    sum += (i+1)*name_points(name_list[i])\n",
    "print(sum)"
   ]
  },
  {
   "cell_type": "code",
   "execution_count": 5,
   "id": "64efc7ca",
   "metadata": {},
   "outputs": [
    {
     "name": "stdout",
     "output_type": "stream",
     "text": [
      "4179871\n"
     ]
    }
   ],
   "source": [
    "# Problem 23\n",
    "def abundant(num):\n",
    "    total = 1\n",
    "    n = 2\n",
    "    while n*n < num:\n",
    "        if num%n == 0:\n",
    "            total += n\n",
    "            total += num//n\n",
    "        n += 1\n",
    "    if n*n==num: total+=n\n",
    "    return total>num\n",
    "\n",
    "abundants = []\n",
    "\n",
    "for i in range(1,28124):\n",
    "    if abundant(i):\n",
    "        abundants.append(i)\n",
    "        \n",
    "lst = [i for i in range(28124)]\n",
    "        \n",
    "for i in abundants:\n",
    "    for j in abundants:\n",
    "        if i+j>28123: continue\n",
    "        lst[i+j] = 0\n",
    "        \n",
    "print(sum(lst))"
   ]
  },
  {
   "cell_type": "code",
   "execution_count": 110,
   "id": "9f4da651",
   "metadata": {},
   "outputs": [
    {
     "name": "stdout",
     "output_type": "stream",
     "text": [
      "(2, 7, 8, 3, 9, 1, 5, 4, 6, 0)\n"
     ]
    }
   ],
   "source": [
    "# Problem 24\n",
    "#278395460\n",
    "from itertools import permutations\n",
    "a = [0,1,2,3,4,5,6,7,8,9]\n",
    "perm = permutations(a)\n",
    "cnt = 1\n",
    "for i in list(perm):\n",
    "    if cnt==1000000: \n",
    "        print(i)\n",
    "        break\n",
    "    cnt += 1"
   ]
  },
  {
   "cell_type": "code",
   "execution_count": 114,
   "id": "52982a97",
   "metadata": {
    "scrolled": false
   },
   "outputs": [
    {
     "name": "stdout",
     "output_type": "stream",
     "text": [
      "4782 : 1070066266382758936764980584457396885083683896632151665013235203375314520604694040621889147582489792657804694888177591957484336466672569959512996030461262748092482186144069433051234774442750273781753087579391666192149259186759553966422837148943113074699503439547001985432609723067290192870526447243726117715821825548491120525013201478612965931381792235559657452039506137551467837543229119602129934048260706175397706847068202895486902666185435124521900369480641357447470911707619766945691070098024393439617474103736912503231365532164773697023167755051595173518460579954919410967778373229665796581646513903488154256310184224190259846088000110186255550245493937113651657039447629584714548523425950428582425306083544435428212611008992863795048006894330309773217834864543113205765659868456288616808718693835297350643986297640660000723562917905207051164077614812491885830945940566688339109350944456576357666151619317753792891661581327159616877487983821820492520348473874384736771934512787029218636250627816\n"
     ]
    }
   ],
   "source": [
    "# Problem 25\n",
    "n1 = 1\n",
    "n2 = 1\n",
    "indx = 2\n",
    "while True:\n",
    "    x = n1 + n2\n",
    "    n1 = n2\n",
    "    n2 = x\n",
    "    indx += 1\n",
    "    if len(str(x)) >= 1000:\n",
    "        break\n",
    "print(indx,':',x)"
   ]
  },
  {
   "cell_type": "code",
   "execution_count": 30,
   "id": "0a94c1dc",
   "metadata": {
    "scrolled": true
   },
   "outputs": [
    {
     "name": "stdout",
     "output_type": "stream",
     "text": [
      "[7, 6, 9, 2, 3, 7, 6, 9, 2, 3, 7, 6, 9, 2, 3, 7, 6, 9, 2, 3, 7, 6, 9, 2, 3, 7, 6, 9, 2, 3, 7, 6, 9, 2, 3, 7, 6, 9, 2, 3, 7, 6, 9, 2, 3, 7, 6, 9, 2, 3]\n",
      "0.07692307692307693\n",
      "983\n"
     ]
    }
   ],
   "source": [
    "# Problem 26\n",
    "a = [1,2,3,4]\n",
    "#if 2 in a:\n",
    "#    print(len(a)-a.index(2))\n",
    "def division(n):\n",
    "    lst = []\n",
    "    numerator = 1\n",
    "    for i in range(50):\n",
    "        while numerator < n:\n",
    "            numerator *= 10\n",
    "        lst.append(numerator//n)\n",
    "        numerator = numerator%n\n",
    "        if numerator == 0: return lst\n",
    "    return lst\n",
    "        \n",
    "n = 13\n",
    "\n",
    "print(division(n))\n",
    "print(1/n)\n",
    "\n"
   ]
  },
  {
   "cell_type": "code",
   "execution_count": 178,
   "id": "f55039cd",
   "metadata": {},
   "outputs": [
    {
     "name": "stdout",
     "output_type": "stream",
     "text": [
      "73 [-61, 971]\n",
      "-59231\n"
     ]
    }
   ],
   "source": [
    "# Problem 27\n",
    "import math\n",
    "def isprime(num):\n",
    "    if num in [-1,0,1]: return False\n",
    "    if num in [-2,2]: return True\n",
    "    if num < 0: num=-num\n",
    "    for i in range(2,math.floor(math.sqrt(num))+1):\n",
    "        if num%i==0: return False\n",
    "    return True\n",
    "\n",
    "\n",
    "maxlen = 0\n",
    "coefficients = []\n",
    "for a in range(-999,1000):\n",
    "    for b in range(-999,999,2):\n",
    "        if not isprime(b): continue\n",
    "        n = 0\n",
    "        consecutiveprime = True\n",
    "        while consecutiveprime:\n",
    "            consecutiveprime = isprime(n*n + a*n + b)\n",
    "            n += 1\n",
    "            if n+1 > maxlen:\n",
    "                maxlen = n+1\n",
    "                coefficients = [a,b]\n",
    "print(maxlen,coefficients)\n",
    "print(coefficients[0]*coefficients[1])"
   ]
  },
  {
   "cell_type": "code",
   "execution_count": 148,
   "id": "a9165f60",
   "metadata": {},
   "outputs": [
    {
     "name": "stdout",
     "output_type": "stream",
     "text": [
      "669171001\n"
     ]
    }
   ],
   "source": [
    "# Problem 28\n",
    "\n",
    "sidelength = 1    #length of box\n",
    "diagsum = 1\n",
    "n = 1             #upper right corner\n",
    "while sidelength < 1001:\n",
    "    sidelength += 2\n",
    "    n += (sidelength-1)*4\n",
    "    diagsum += (n*4) - (sidelength-1)*6\n",
    "print(diagsum)"
   ]
  },
  {
   "cell_type": "code",
   "execution_count": 152,
   "id": "61d021b3",
   "metadata": {},
   "outputs": [
    {
     "name": "stdout",
     "output_type": "stream",
     "text": [
      "9183\n"
     ]
    }
   ],
   "source": [
    "# Problem 29\n",
    "d = {}\n",
    "for a in range(2,101):\n",
    "    for b in range(2,101):\n",
    "        d.update({a**b:''})\n",
    "print(len(d))"
   ]
  },
  {
   "cell_type": "code",
   "execution_count": 157,
   "id": "2b99aabd",
   "metadata": {},
   "outputs": [
    {
     "name": "stdout",
     "output_type": "stream",
     "text": [
      "[4150, 4151, 54748, 92727, 93084, 194979]\n",
      "answer:  443839\n"
     ]
    }
   ],
   "source": [
    "# Problem 30\n",
    "def fivepower(num):\n",
    "    original = num\n",
    "    powersum = 0\n",
    "    while num > 0:\n",
    "        powersum += (num%10)**5\n",
    "        num //=10\n",
    "    return powersum == original\n",
    "\n",
    "powerlist = []\n",
    "n = 2\n",
    "while n < 1000000:\n",
    "    if fivepower(n): powerlist.append(n)\n",
    "    n += 1\n",
    "\n",
    "print(powerlist)\n",
    "answer = 0\n",
    "for i in powerlist:\n",
    "    answer += i\n",
    "print('answer: ',answer)"
   ]
  },
  {
   "cell_type": "code",
   "execution_count": 97,
   "id": "e613dba6",
   "metadata": {},
   "outputs": [
    {
     "name": "stdout",
     "output_type": "stream",
     "text": [
      "73682\n",
      "2.2908475399017334\n"
     ]
    }
   ],
   "source": [
    "# Problem 31\n",
    "import time\n",
    "start = time.time()\n",
    "ways = 7\n",
    "\n",
    "for dollar in range(0,2):\n",
    "    for fifty in range(0,4):\n",
    "        for twenty in range(0,10):\n",
    "            for dimes in range(0,20):\n",
    "                for fives in range(0,40):\n",
    "                    for twos in range(0,100):\n",
    "                        if dollar*100 + fifty*50 + twenty*20 + dimes*10 + fives*5 + twos*2 <= 200:\n",
    "                            ways+=1\n",
    "print(ways)\n",
    "print(time.time()-start)"
   ]
  },
  {
   "cell_type": "code",
   "execution_count": 26,
   "id": "43d768ac",
   "metadata": {},
   "outputs": [
    {
     "name": "stdout",
     "output_type": "stream",
     "text": [
      "4 1738 6952\n",
      "4 1963 7852\n",
      "12 483 5796\n",
      "18 297 5346\n",
      "27 198 5346\n",
      "28 157 4396\n",
      "39 186 7254\n",
      "42 138 5796\n",
      "48 159 7632\n",
      "138 42 5796\n",
      "157 28 4396\n",
      "159 48 7632\n",
      "186 39 7254\n",
      "198 27 5346\n",
      "297 18 5346\n",
      "483 12 5796\n",
      "1738 4 6952\n",
      "1963 4 7852\n",
      "45228 {5346, 5796, 6952, 7852, 4396, 7632, 7254}\n"
     ]
    }
   ],
   "source": [
    "#Problem 32\n",
    "def pandigital(a,b,c):\n",
    "    compare_list = [str(i) for i in range(1,10)]\n",
    "    return sorted(list(str(a)+str(b)+str(c)))==compare_list\n",
    "\n",
    "products = {7254}\n",
    "for a in range(1,10000):\n",
    "    for b in range(1,100000):\n",
    "        c=a*b\n",
    "        if len(str(a)+str(b)+str(c))>9:\n",
    "            break\n",
    "        if pandigital(a,b,c):\n",
    "            print(a,b,c)\n",
    "            products.add(c)\n",
    "total = 0\n",
    "for c in products:\n",
    "    total += c\n",
    "    \n",
    "print(total,products)"
   ]
  },
  {
   "cell_type": "code",
   "execution_count": 164,
   "id": "765a7f07",
   "metadata": {},
   "outputs": [
    {
     "name": "stdout",
     "output_type": "stream",
     "text": [
      "1 6 / 6 4\n",
      "1 9 / 9 5\n",
      "2 6 / 6 5\n",
      "4 9 / 9 8\n"
     ]
    }
   ],
   "source": [
    "# Problem 33\n",
    "# ab/ca\n",
    "answer = 0\n",
    "for a in range(1,10):\n",
    "    for b in range(1,10):\n",
    "        for c in range(1,10):\n",
    "            if b/c == ((a*10)+b)/((c*10)+a) and b/c < 1:\n",
    "                answer += 1\n",
    "                print(a,b,'/',c,a)\n",
    "\n",
    "#ab/bc\n",
    "for a in range(1,10):\n",
    "    for b in range(1,10):\n",
    "        for c in range(1,10):\n",
    "            if a/c == ((a*10)+b)/((b*10)+c) and a/c < 1:\n",
    "                answer += 1\n",
    "                print(a,b,'/',b,c)\n",
    "                \n",
    "                "
   ]
  },
  {
   "cell_type": "code",
   "execution_count": 173,
   "id": "53a4bb79",
   "metadata": {
    "scrolled": true
   },
   "outputs": [
    {
     "name": "stdout",
     "output_type": "stream",
     "text": [
      "145\n",
      "40585\n",
      "40730\n"
     ]
    }
   ],
   "source": [
    "# Problem 34\n",
    "import math\n",
    "def facsum(num):\n",
    "    facs = 0\n",
    "    while num > 0:\n",
    "        facs += math.factorial(num%10)\n",
    "        num //= 10\n",
    "    return facs\n",
    "sum = 0\n",
    "for i in range(3,10000000):\n",
    "    if facsum(i) == i: \n",
    "        print(i)\n",
    "        sum+=i\n",
    "print(sum)"
   ]
  },
  {
   "cell_type": "code",
   "execution_count": 200,
   "id": "fbccd15e",
   "metadata": {},
   "outputs": [
    {
     "name": "stdout",
     "output_type": "stream",
     "text": [
      "55\n"
     ]
    }
   ],
   "source": [
    "#Problem 35\n",
    "def primes(num):\n",
    "    if num == 3: return [2]\n",
    "    lst = [2]\n",
    "    n = 3\n",
    "    while n < num:\n",
    "        prime = True\n",
    "        for i in lst:\n",
    "            if i*i > n: break\n",
    "            if n%i==0:\n",
    "                prime = False\n",
    "                break\n",
    "        if prime==True: lst.append(n)\n",
    "        n+=2\n",
    "    return lst\n",
    "\n",
    "def isprime(num):\n",
    "    if num==1: return False\n",
    "    if num==4: return False\n",
    "    if num==0: return False\n",
    "    div = 2\n",
    "    while div*div <= num:\n",
    "        if num%div==0: return False\n",
    "        div += 1\n",
    "    return True\n",
    "\n",
    "p = primes(1000000)\n",
    "circular_primes = []\n",
    "\n",
    "for i in p:\n",
    "    circular = True\n",
    "    if i < 10: \n",
    "        circular_primes.append(i)\n",
    "        continue\n",
    "    stri = str(i)\n",
    "    for j in range(len(stri)-1):\n",
    "        stri = stri[-1]+stri[0:-1]\n",
    "        if not isprime(int(stri)): \n",
    "            circular = False\n",
    "            break\n",
    "    if circular == True: circular_primes.append(i)\n",
    "\n",
    "print(len(circular_primes))\n",
    "        \n"
   ]
  },
  {
   "cell_type": "code",
   "execution_count": 108,
   "id": "0c73ede7",
   "metadata": {},
   "outputs": [
    {
     "name": "stdout",
     "output_type": "stream",
     "text": [
      "872187\n",
      "True\n",
      "True\n"
     ]
    }
   ],
   "source": [
    "# Problem 36\n",
    "\n",
    "def binary(num):\n",
    "    num2 = ''\n",
    "    while num > 0:\n",
    "        num2 = str(num%2) + num2\n",
    "        num = num // 2\n",
    "    return num2\n",
    "\n",
    "def ispalindrome(numstr):\n",
    "    return numstr[::-1] == numstr\n",
    "sum = 0\n",
    "\n",
    "for i in range(1,1000000):\n",
    "    if ispalindrome(str(i)):\n",
    "        if ispalindrome(binary(i)):\n",
    "            sum+=i\n",
    "print(sum)\n",
    "\n",
    "print(ispalindrome('585'))\n",
    "\n",
    "print(ispalindrome(binary(585)))"
   ]
  },
  {
   "cell_type": "code",
   "execution_count": 27,
   "id": "7c397e4b",
   "metadata": {},
   "outputs": [
    {
     "name": "stdout",
     "output_type": "stream",
     "text": [
      "23\n",
      "37\n",
      "53\n",
      "73\n",
      "313\n",
      "317\n",
      "373\n",
      "797\n",
      "3137\n",
      "3797\n",
      "739397\n",
      "748317 739397\n"
     ]
    }
   ],
   "source": [
    "#Problem 37\n",
    "import math\n",
    "def isprime(num):\n",
    "    if num==1: return False\n",
    "    if num==4: return False\n",
    "    if num==0: return False\n",
    "    div = 2\n",
    "    while div*div <= num:\n",
    "        if num%div==0: return False\n",
    "        div += 1\n",
    "    return True\n",
    "\n",
    "def truncatableprime(num):\n",
    "    if num < 10: return False\n",
    "    #Truncating from right \n",
    "    orig = num\n",
    "    while num > 0:\n",
    "        #print(num)\n",
    "        if not isprime(num): return False\n",
    "        num = num // 10\n",
    "    \n",
    "    #Truncating from left\n",
    "    num = orig\n",
    "    while num > 0:\n",
    "        #print(num)\n",
    "        if not isprime(num): return False\n",
    "        digits = len(str(num))\n",
    "        num = num%(10**(digits-1))\n",
    "    return True\n",
    "\n",
    "cnt = 0\n",
    "ttl = 0\n",
    "for i in range(11,1000000):\n",
    "    if truncatableprime(i):\n",
    "        cnt+=1\n",
    "        ttl+=i\n",
    "        print(i)\n",
    "    if cnt==11:\n",
    "        break\n",
    "        \n",
    "print(ttl,i)\n",
    "\n"
   ]
  },
  {
   "cell_type": "code",
   "execution_count": 52,
   "id": "95ce9c12",
   "metadata": {},
   "outputs": [
    {
     "name": "stdout",
     "output_type": "stream",
     "text": [
      "932718654\n"
     ]
    }
   ],
   "source": [
    "# Problem 38\n",
    "\n",
    "def pandigital(num):\n",
    "    digits = {'1','2','3','4','5','6','7','8','9'}\n",
    "    return set(str(num))==digits and len(str(num))==9\n",
    "def buildpan(base,n):\n",
    "    ttl = ''\n",
    "    for i in range(1,n+1):\n",
    "        ttl += str(i*base)\n",
    "        \n",
    "    return(int(ttl))\n",
    "big = 0\n",
    "\n",
    "for base in range(1,120000):\n",
    "    for n in range(2,9):\n",
    "        d = buildpan(base,n)\n",
    "        if pandigital(d):\n",
    "            if d>big: \n",
    "                big = d\n",
    "        if pan > 987654321: break\n",
    "            \n",
    "print(big)\n"
   ]
  },
  {
   "cell_type": "code",
   "execution_count": 53,
   "id": "b8cc1c0f",
   "metadata": {},
   "outputs": [
    {
     "name": "stdout",
     "output_type": "stream",
     "text": [
      "840 16\n"
     ]
    }
   ],
   "source": [
    "# Problem 39\n",
    "best_p = 1\n",
    "best_ans = 0\n",
    "for p in range(1,1001):\n",
    "    num_ans = 0\n",
    "    for a in range(1,p):\n",
    "        for b in range(1,p-a):\n",
    "            c = p-a-b\n",
    "            if (a*a + b*b) == c*c:\n",
    "                num_ans += 1\n",
    "    if num_ans > best_ans:\n",
    "        best_p = p\n",
    "        best_ans = num_ans\n",
    "print(best_p,best_ans)\n",
    "            "
   ]
  },
  {
   "cell_type": "code",
   "execution_count": 66,
   "id": "ea40cec6",
   "metadata": {
    "scrolled": true
   },
   "outputs": [
    {
     "name": "stdout",
     "output_type": "stream",
     "text": [
      "210\n"
     ]
    }
   ],
   "source": [
    "# Problem 40\n",
    "d = '.'\n",
    "n = 1\n",
    "while len(d) < 1000001:\n",
    "    d += (str(n))\n",
    "    n += 1\n",
    "ans = int(d[1]) * int(d[10]) * int(d[100]) * int(d[1000]) * int(d[10000]) * int(d[100000]) * int(d[1000000])\n",
    "print(ans)"
   ]
  },
  {
   "cell_type": "code",
   "execution_count": 73,
   "id": "662cb3ad",
   "metadata": {},
   "outputs": [
    {
     "name": "stdout",
     "output_type": "stream",
     "text": [
      "162\n"
     ]
    }
   ],
   "source": [
    "# Problem 42\n",
    "import csv\n",
    "\n",
    "triangle_nums = []\n",
    "letter_dict = {}\n",
    "st = '?ABCDEFGHIJKLMNOPQRSTUVWXYZ'\n",
    "\n",
    "for i in range(1,27):\n",
    "    letter_dict[st[i]] = i\n",
    "    \n",
    "for i in range(1,99):\n",
    "    triangle_nums.append(i*(i+1)//2)\n",
    "\n",
    "def triangle_word(word,tri_nums,letter_dict):\n",
    "    ttl = 0\n",
    "    for i in word:\n",
    "        ttl += letter_dict[i]    \n",
    "    return ttl in tri_nums\n",
    "\n",
    "cnt = 0\n",
    "with open('euler42.txt') as f:\n",
    "    wordreader = csv.reader(f)\n",
    "    for words in wordreader:\n",
    "        for word in words:\n",
    "            if triangle_word(word,triangle_nums,letter_dict): cnt+=1\n",
    "                \n",
    "print(cnt)\n",
    "\n"
   ]
  },
  {
   "cell_type": "code",
   "execution_count": 9,
   "id": "915935af",
   "metadata": {},
   "outputs": [],
   "source": [
    "# Problem 44\n",
    "def pentagonal(n):\n",
    "    return n*(3*n-1)//2\n",
    "    \n",
    "pent = [pentagonal(i) for i in range(1,200001)]\n",
    "\n",
    "for i in range(200):\n",
    "    for j in range(i,200):\n",
    "        if pent[i]+pent[j] in pent:\n",
    "            if pent[j]-pent[i] in pent:\n",
    "                print(pent[i],pent[j])"
   ]
  },
  {
   "cell_type": "code",
   "execution_count": 37,
   "id": "e5be2d5c",
   "metadata": {},
   "outputs": [
    {
     "name": "stdout",
     "output_type": "stream",
     "text": [
      "{1, 40755, 1533776805}\n",
      "0.19302964210510254\n"
     ]
    }
   ],
   "source": [
    "#Problem 45\n",
    "#\n",
    "#Triangle     Tn=n(n+1)/2\n",
    "#Pentagonal   Pn=n(3n−1)/2\n",
    "#Hexagonal    Hn=n(2n−1)\n",
    "import time\n",
    "start = time.time()\n",
    "\n",
    "tri = {1}\n",
    "pent = {1}\n",
    "hexag = {1}\n",
    "\n",
    "for i in range(1,100000):\n",
    "    tri.add(i*(i+1)//2)\n",
    "    pent.add(i*(3*i-1)//2)\n",
    "    hexag.add(i*(2*i-1))\n",
    "    \n",
    "answers = tri.intersection(pent).intersection(hexag)\n",
    "print(answers)\n",
    "print(time.time()-start)"
   ]
  },
  {
   "cell_type": "code",
   "execution_count": 139,
   "id": "a108a155",
   "metadata": {
    "scrolled": true
   },
   "outputs": [
    {
     "name": "stdout",
     "output_type": "stream",
     "text": [
      "1000368199144695177095375011227646795567793680622934654583760988100234910747716194381428659099527845945869942643191290894720342979906407679647259860434238468038326040809691037615370376237713648510063115732951461774246705584266865759601815843666442832284556880313114548151539190975398485496645576513465858582712336401166221956188173449531674102688908321764663020306699770408625340766091595022791379368098369306375602813856646358773751558775213460225796579846583334007349358624342339332981334571237888809283103348760261360175950815609179464026871005243652109980863552142014242903434068560936573231079342194031864413918101238151056509267393515760392842472501391594073463001521843811073767021711026307504695733467897821866906648469828346607412967395801797791683609834722432241952845352564681868240369569566192825555323558078061997527689983848863374786789331581565252059172614339424600986143259233167583371070362625554531852054166117148858229508581589614337594463277554380518380921301218836327102231407332201109740102580216469298331766920619646083790732807627360614428085171565006289728508688964226799647192582924058589530750674578385365561878559589685756225692348914746922810913915619834754117648358035814128670294158565669942087736286390942241547226015004471330630113072042704288905042142628193771918594574302202147201188486345913190833752307476966010547423928871063118783026036381319039052008252072057933666712918946233312793697094074224187872045970976444309242782187738320257490080824330074991698698239561125811127607863900355221737846690567707344074494145266662103839812840216303448476913957072355732716627098372245223046792919747259113157425824064858331415400943278213042954635053574045209984512221264241903550178416824551412548637590007779082539288247751653566899882749594405895102587985539527709493510049546445427265617478399107188238681771215904234119392247489751079085948055945098805617963722928469554263782217625160428008228845552540344494860195267115187092227766195753907211126646150140614744233974765273475619964311852858614167819668340124730487710162006793529985758820653677274379563313495454526632718723482339494825759821076401694316043456512117937935456463521463021197726694983558929132357576188594977516630734212863869456164205525536767311298137182511494649463663073759219213056823561667776093739425742883930712609962163464088038826569132032160692637206183085942987973684584276491784843115472077900401692595694119273553511025991265446039366288921743581333200083717105241171504606883543418862024047552177055263424469501298905901938158245938633694105024815166679813689156668341197713475094389904887126794468901893850475050011205225742455555625750560213230387910337983950333245020653238989115507013882956277763880795687210857196493893142656713105966275422144605988058939600603604226921401402096519294250488670297983396353279460453142375542267881989197481789780678955093763193658603690898474826976906544473978017455720367929981796023041785852626797271283465789498383642350667978127819110846700\n"
     ]
    }
   ],
   "source": [
    "# Problem 48\n",
    "sum = 0\n",
    "for i in range(1,1001):\n",
    "    sum += i**i\n",
    "print(sum)"
   ]
  },
  {
   "cell_type": "code",
   "execution_count": 73,
   "id": "fdcd6b68",
   "metadata": {},
   "outputs": [
    {
     "name": "stdout",
     "output_type": "stream",
     "text": [
      "1487 4817 8147 3330\n",
      "2969 6299 9629 3330\n"
     ]
    }
   ],
   "source": [
    "# Problem 49\n",
    "def primes(num):\n",
    "    if num == 3: return [2]\n",
    "    lst = [2]\n",
    "    n = 3\n",
    "    while n < num:\n",
    "        prime = True\n",
    "        for i in lst:\n",
    "            if i*i > n: break\n",
    "            if n%i==0:\n",
    "                prime = False\n",
    "                break\n",
    "        if prime==True: lst.append(n)\n",
    "        n+=2\n",
    "    return lst\n",
    "\n",
    "primes = primes(10000)\n",
    "for i in range(len(primes)):\n",
    "    if primes[i]>1000:\n",
    "        four_digit_primes=primes[i:]\n",
    "        break\n",
    "        \n",
    "for i in range(1000,3350,2):\n",
    "    for prime in four_digit_primes:\n",
    "        if prime + i in four_digit_primes:\n",
    "            if prime + 2*i in four_digit_primes:\n",
    "                if sorted(str(prime))==sorted(str(prime+i))==sorted(str(prime+2*i)):\n",
    "                    print(prime,prime+i,prime+2*i,i)\n",
    "            \n"
   ]
  },
  {
   "cell_type": "code",
   "execution_count": 67,
   "id": "f2403ab3",
   "metadata": {},
   "outputs": [
    {
     "name": "stdout",
     "output_type": "stream",
     "text": [
      "9521 65\n"
     ]
    }
   ],
   "source": [
    "# Problem 50\n",
    "def primes(num):\n",
    "    if num == 3: return [2]\n",
    "    lst = [2]\n",
    "    n = 3\n",
    "    while n < num:\n",
    "        prime = True\n",
    "        for i in lst:\n",
    "            if i*i > n: break\n",
    "            if n%i==0:\n",
    "                prime = False\n",
    "                break\n",
    "        if prime==True: lst.append(n)\n",
    "        n+=2\n",
    "    return lst\n",
    "\n",
    "limit = 10000\n",
    "primes = primes(limit)\n",
    "max_adds = 0\n",
    "max_prime = 2\n",
    "\n",
    "for i in range(1,len(primes)):\n",
    "    sum_primes = 0\n",
    "    searchlist = primes[:i]\n",
    "    for j in range(0,i):\n",
    "        sum_primes = searchlist[j]\n",
    "        adds = 1\n",
    "        while sum_primes < primes[i]:\n",
    "            try:\n",
    "                sum_primes += searchlist[j+adds]\n",
    "                adds+=1\n",
    "            except:\n",
    "                break\n",
    "        if sum_primes == primes[i]:\n",
    "            if adds > max_adds:\n",
    "                max_adds = adds\n",
    "                max_prime = primes[i]\n",
    "\n",
    "print(max_prime,max_adds)"
   ]
  },
  {
   "cell_type": "code",
   "execution_count": 32,
   "id": "77267465",
   "metadata": {},
   "outputs": [
    {
     "data": {
      "text/plain": [
       "4075"
      ]
     },
     "execution_count": 32,
     "metadata": {},
     "output_type": "execute_result"
    }
   ],
   "source": [
    "# Problem 53\n",
    "\n",
    "# Return True iff nCr is greater than 1000000 \n",
    "# (optimized for large n,r)\n",
    "\n",
    "def combination(n,r):\n",
    "    if r >= n: return 0\n",
    "    #if n <= 22:\n",
    "    #    return False\n",
    "    limit = 1000000\n",
    "    prod = 1\n",
    "    #choose r to be the smaller of r,n-r (symmetric nCr=nC(n-r))\n",
    "    if r > n-r:\n",
    "        r=n-r\n",
    "        \n",
    "    divisors = [i for i in range(r,1,-1)]\n",
    "    #divisors += [i for i in range(n-r,1,-1)]\n",
    "    numerator = [i for i in range(n,n-r,-1)]\n",
    "    #print(divisors,'\\n',numerator)\n",
    "    for factor in numerator:\n",
    "        prod *= factor\n",
    "    for factor in divisors:\n",
    "        prod = prod // factor\n",
    "    return prod\n",
    "\n",
    "count=0\n",
    "for n in range(1,101):\n",
    "    for r in range(1,n):\n",
    "        if combination(n,r)>1000000:\n",
    "            count+=1\n",
    "            \n",
    "count"
   ]
  },
  {
   "cell_type": "code",
   "execution_count": 52,
   "id": "9373867b",
   "metadata": {},
   "outputs": [
    {
     "name": "stdout",
     "output_type": "stream",
     "text": [
      "249 [196, 295, 394, 493, 592, 689, 691, 788, 790, 879, 887, 978, 986, 1495, 1497, 1585, 1587, 1675, 1677, 1765, 1767, 1855, 1857, 1945, 1947, 1997, 2494, 2496, 2584, 2586, 2674, 2676, 2764, 2766, 2854, 2856, 2944, 2946, 2996, 3493, 3495, 3583, 3585, 3673, 3675, 3763, 3765, 3853, 3855, 3943, 3945, 3995, 4079, 4169, 4259, 4349, 4439, 4492, 4494, 4529, 4582, 4584, 4619, 4672, 4674, 4709, 4762, 4764, 4799, 4852, 4854, 4889, 4942, 4944, 4979, 4994, 5078, 5168, 5258, 5348, 5438, 5491, 5493, 5528, 5581, 5583, 5618, 5671, 5673, 5708, 5761, 5763, 5798, 5851, 5853, 5888, 5941, 5943, 5978, 5993, 6077, 6167, 6257, 6347, 6437, 6490, 6492, 6527, 6580, 6582, 6617, 6670, 6672, 6707, 6760, 6762, 6797, 6850, 6852, 6887, 6940, 6942, 6977, 6992, 7059, 7076, 7149, 7166, 7239, 7256, 7329, 7346, 7419, 7436, 7491, 7509, 7526, 7581, 7599, 7616, 7671, 7689, 7706, 7761, 7779, 7796, 7851, 7869, 7886, 7941, 7959, 7976, 7991, 8058, 8075, 8079, 8089, 8148, 8165, 8169, 8179, 8238, 8255, 8259, 8269, 8328, 8345, 8349, 8359, 8418, 8435, 8439, 8449, 8490, 8508, 8525, 8529, 8539, 8580, 8598, 8615, 8619, 8629, 8670, 8688, 8705, 8709, 8719, 8760, 8778, 8795, 8799, 8809, 8850, 8868, 8885, 8889, 8899, 8940, 8958, 8975, 8979, 8989, 8990, 9057, 9074, 9078, 9088, 9147, 9164, 9168, 9178, 9237, 9254, 9258, 9268, 9327, 9344, 9348, 9358, 9417, 9434, 9438, 9448, 9507, 9524, 9528, 9538, 9597, 9614, 9618, 9628, 9687, 9704, 9708, 9718, 9777, 9794, 9798, 9808, 9867, 9884, 9888, 9898, 9957, 9974, 9978, 9988, 9999]\n"
     ]
    }
   ],
   "source": [
    "# Problem 55\n",
    "\n",
    "def addreverse(num):\n",
    "    reverse = int(str(num)[::-1])\n",
    "    return num + reverse\n",
    "def palindromic(num):\n",
    "    return str(num)==str(num)[::-1]\n",
    "\n",
    "lychrel = []\n",
    "for i in range(1,10001):\n",
    "    num = i\n",
    "    iterations=0\n",
    "    while iterations<51:\n",
    "        num = addreverse(num)\n",
    "        iterations+=1\n",
    "        if palindromic(num): break\n",
    "    if iterations==51: lychrel.append(i)\n",
    "print(len(lychrel),lychrel)\n"
   ]
  },
  {
   "cell_type": "code",
   "execution_count": 36,
   "id": "f6c6b222",
   "metadata": {},
   "outputs": [
    {
     "name": "stdout",
     "output_type": "stream",
     "text": [
      "99 95 972\n"
     ]
    }
   ],
   "source": [
    "# Problem 56\n",
    "def countdig(num):\n",
    "    ttl = 0\n",
    "    while num>0:\n",
    "        ttl += num%10\n",
    "        num = num//10\n",
    "    return ttl\n",
    "maximum = 0\n",
    "maxa = 1\n",
    "maxb = 1\n",
    "for a in range(1,101):\n",
    "    for b in range(1,101):\n",
    "        power = countdig(a**b)\n",
    "        if power>maximum:\n",
    "            maxa=a\n",
    "            maxb=b\n",
    "            maximum=power\n",
    "print(maxa,maxb,maximum)"
   ]
  },
  {
   "cell_type": "code",
   "execution_count": 118,
   "id": "5a83d5ca",
   "metadata": {},
   "outputs": [
    {
     "name": "stdout",
     "output_type": "stream",
     "text": [
      "101 120 112 \n",
      " An extract taken from the introduction of one of Euler's most celebrated papers, \"De summis serierum reciprocarum\" [On the sums of series of reciprocals]: I have recently found, quite unexpectedly, an elegant expression for the entire sum of this series 1 + 1/4 + 1/9 + 1/16 + etc., which depends on the quadrature of the circle, so that if the true sum of this series is obtained, from it at once the quadrature of the circle follows. Namely, I have found that the sum of this series is a sixth part of the square of the perimeter of the circle whose diameter is 1; or by putting the sum of this series equal to s, it has the ratio sqrt(6) multiplied by s to 1 of the perimeter to the diameter. I will soon show that the sum of this series to be approximately 1.644934066842264364; and from multiplying this number by six, and then taking the square root, the number 3.141592653589793238 is indeed produced, which expresses the perimeter of a circle whose diameter is 1. Following again the same steps by which I had arrived at this sum, I have discovered that the sum of the series 1 + 1/16 + 1/81 + 1/256 + 1/625 + etc. also depends on the quadrature of the circle. Namely, the sum of this multiplied by 90 gives the biquadrate (fourth power) of the circumference of the perimeter of a circle whose diameter is 1. And by similar reasoning I have likewise been able to determine the sums of the subsequent series in which the exponents are even numbers.\n"
     ]
    },
    {
     "data": {
      "text/plain": [
       "129448"
      ]
     },
     "execution_count": 118,
     "metadata": {},
     "output_type": "execute_result"
    }
   ],
   "source": [
    "# Problem 59\n",
    "import csv\n",
    "cipher = []\n",
    "with open('p059_cipher.txt') as f:\n",
    "    cipher_csv = csv.reader(f)\n",
    "    for row in cipher_csv:\n",
    "        cipher += row\n",
    "        \n",
    "for i in range(len(cipher)):\n",
    "    cipher[i] = int(cipher[i])\n",
    "\n",
    "\n",
    "def decrypt(cipher,key):\n",
    "    decrypted_str = ''\n",
    "    for i in range(len(cipher)):\n",
    "        decrypted_str += chr(cipher[i] ^ key)\n",
    "    return decrypted_str\n",
    "\n",
    "cutoff = 360\n",
    "\n",
    "key0_letters = []\n",
    "for key0 in range(128):\n",
    "    decrypted_cipher = decrypt(cipher[::3],key0)\n",
    "    letters = 0\n",
    "    for i in decrypted_cipher:\n",
    "        if i.isalnum() or i==' ':\n",
    "            letters+=1\n",
    "    key0_letters += [letters]\n",
    "key0_options = []\n",
    "for i in range(len(key0_letters)):\n",
    "    if key0_letters[i] > cutoff: \n",
    "        key0_options.append(i)\n",
    "        \n",
    "key1_letters = []        \n",
    "for key1 in range(128):\n",
    "    decrypted_cipher = decrypt(cipher[1::3],key1)\n",
    "    letters = 0\n",
    "    for i in decrypted_cipher:\n",
    "        if i.isalnum() or i==' ':\n",
    "            letters+=1\n",
    "    key1_letters += [letters]\n",
    "key1_options = []\n",
    "for i in range(len(key1_letters)):\n",
    "    if key1_letters[i] > cutoff:\n",
    "        key1_options.append(i)\n",
    "\n",
    "key2_letters = []        \n",
    "for key2 in range(128):\n",
    "    decrypted_cipher = decrypt(cipher[2::3],key2)\n",
    "    letters = 0\n",
    "    for i in decrypted_cipher:\n",
    "        if i.isalnum() or i==' ':\n",
    "            letters+=1\n",
    "    key2_letters += [letters]\n",
    "key2_options = []\n",
    "for i in range(len(key2_letters)):\n",
    "    if key2_letters[i] > cutoff:\n",
    "        key2_options.append(i)\n",
    "#print(key0_options,key1_options,key2_options)\n",
    "key0_options\n",
    "\n",
    "for key0 in key0_options:\n",
    "    for key1 in key1_options:\n",
    "        for key2 in key2_options:\n",
    "            decryption0 = decrypt(cipher[0::3],key0)\n",
    "            decryption1 = decrypt(cipher[1::3],key1)\n",
    "            decryption2 = decrypt(cipher[2::3],key2)\n",
    "            compiled_str = ''\n",
    "            for i in range(len(decryption2)):\n",
    "                compiled_str = compiled_str + decryption0[i] + decryption1[i] + decryption2[i]\n",
    "            #print(compiled_str[:50])\n",
    "            if compiled_str[:5] == 'An ex': \n",
    "                print(key0,key1,key2,'\\n',compiled_str)\n",
    "                solution = compiled_str\n",
    "ttl = 0\n",
    "for char in solution:\n",
    "    ttl += ord(char)\n",
    "    \n",
    "ttl\n"
   ]
  },
  {
   "cell_type": "code",
   "execution_count": 95,
   "id": "bd303d28",
   "metadata": {},
   "outputs": [
    {
     "name": "stdout",
     "output_type": "stream",
     "text": [
      "8581146\n",
      "60.4287633895874\n"
     ]
    }
   ],
   "source": [
    "# Problem 92\n",
    "import time\n",
    "start = time.time()\n",
    "\n",
    "cutoff = 500\n",
    "\n",
    "# Return the sum of squares of the digits \n",
    "def chain(n):\n",
    "    sum = 0\n",
    "    while n > 0:\n",
    "        sum += (n%10)**2\n",
    "        n = n // 10\n",
    "    return sum\n",
    "cnt = 0\n",
    "lst89 = []\n",
    "lst1=[]\n",
    "for i in range(1,10000001):\n",
    "    n = i\n",
    "    while not (n==1 or n==89):\n",
    "        n=chain(n)\n",
    "        if n>cutoff: continue\n",
    "        if n in lst89:\n",
    "            n=89\n",
    "            continue\n",
    "        elif n in lst1:\n",
    "            n=1\n",
    "    if n==89: \n",
    "        cnt+=1\n",
    "        if i < cutoff:\n",
    "            lst89.append(i)\n",
    "    else:\n",
    "        if i < cutoff:\n",
    "            lst1.append(i)\n",
    "print(cnt)\n",
    "\n",
    "print(time.time()-start)"
   ]
  },
  {
   "cell_type": "code",
   "execution_count": 88,
   "id": "51dbce8c",
   "metadata": {},
   "outputs": [
    {
     "name": "stdout",
     "output_type": "stream",
     "text": [
      "8739992577\n"
     ]
    }
   ],
   "source": [
    "# Problem 97\n",
    "\n",
    "num = 28433\n",
    "\n",
    "for i in range(7830457):\n",
    "    num = (num*2)%10000000000\n",
    "num += 1\n",
    "\n",
    "print(num)"
   ]
  },
  {
   "cell_type": "code",
   "execution_count": 105,
   "id": "9e558d9b",
   "metadata": {},
   "outputs": [
    {
     "name": "stdout",
     "output_type": "stream",
     "text": [
      "b\n",
      "-7.5133689839572195 -0.03744939271255061 5.947712418300654\n"
     ]
    }
   ],
   "source": [
    "import math\n",
    "# Problem 102\n",
    "def origin_in_triangle(a,b,c):\n",
    "    origin = (0,0)\n",
    "    if not (slope(a,b) < slope(a,origin) < slope(a,c) or \n",
    "            slope(a,c) < slope(a,origin) < slope(a,b)):\n",
    "        print('a')\n",
    "        return False\n",
    "    if not (slope(b,a) < slope(b,origin) < slope(b,c) or\n",
    "            slope(b,c) < slope(b,origin) < slope(b,a)):\n",
    "        print('b')\n",
    "        return False\n",
    "    if not (slope(c,a) < slope(c,origin) < slope(c,b) or \n",
    "            slope(c,b) < slope(c,origin) < slope(c,a)):\n",
    "        print('c')\n",
    "        return False\n",
    "    \n",
    "    return True\n",
    "def slope(x1,x2):\n",
    "    try: return (x2[1]-x1[1])/(x2[0]-x1[0])\n",
    "    except:\n",
    "        if x2[1]>x1[1]: return 99999\n",
    "        else: return -99999\n",
    "a = (-340,495)\n",
    "b = (-153,-910)\n",
    "c = (835,-947)\n",
    "origin = (0,0)\n",
    "origin_in_triangle(a,b,c)\n",
    "print(slope(b,a),\n",
    "     slope(b,c),\n",
    "     slope(b,origin))\n",
    "\n"
   ]
  },
  {
   "cell_type": "code",
   "execution_count": 168,
   "id": "d6b03486",
   "metadata": {},
   "outputs": [
    {
     "ename": "KeyboardInterrupt",
     "evalue": "",
     "output_type": "error",
     "traceback": [
      "\u001b[0;31m---------------------------------------------------------------------------\u001b[0m",
      "\u001b[0;31mKeyboardInterrupt\u001b[0m                         Traceback (most recent call last)",
      "\u001b[0;32m/tmp/ipykernel_5726/1429681003.py\u001b[0m in \u001b[0;36m<module>\u001b[0;34m\u001b[0m\n\u001b[1;32m     17\u001b[0m \u001b[0mn\u001b[0m \u001b[0;34m=\u001b[0m \u001b[0;36m100000000\u001b[0m\u001b[0;34m\u001b[0m\u001b[0;34m\u001b[0m\u001b[0m\n\u001b[1;32m     18\u001b[0m \u001b[0;34m\u001b[0m\u001b[0m\n\u001b[0;32m---> 19\u001b[0;31m \u001b[0mlst\u001b[0m \u001b[0;34m=\u001b[0m \u001b[0mprimes\u001b[0m\u001b[0;34m(\u001b[0m\u001b[0mn\u001b[0m\u001b[0;34m//\u001b[0m\u001b[0;36m2\u001b[0m\u001b[0;34m)\u001b[0m\u001b[0;34m\u001b[0m\u001b[0;34m\u001b[0m\u001b[0m\n\u001b[0m\u001b[1;32m     20\u001b[0m \u001b[0;34m\u001b[0m\u001b[0m\n\u001b[1;32m     21\u001b[0m \u001b[0mcomposites\u001b[0m \u001b[0;34m=\u001b[0m \u001b[0;34m{\u001b[0m\u001b[0;36m4\u001b[0m\u001b[0;34m}\u001b[0m\u001b[0;34m\u001b[0m\u001b[0;34m\u001b[0m\u001b[0m\n",
      "\u001b[0;32m/tmp/ipykernel_5726/1429681003.py\u001b[0m in \u001b[0;36mprimes\u001b[0;34m(num)\u001b[0m\n\u001b[1;32m      8\u001b[0m         \u001b[0mprime\u001b[0m \u001b[0;34m=\u001b[0m \u001b[0;32mTrue\u001b[0m\u001b[0;34m\u001b[0m\u001b[0;34m\u001b[0m\u001b[0m\n\u001b[1;32m      9\u001b[0m         \u001b[0;32mfor\u001b[0m \u001b[0mi\u001b[0m \u001b[0;32min\u001b[0m \u001b[0mlst\u001b[0m\u001b[0;34m:\u001b[0m\u001b[0;34m\u001b[0m\u001b[0;34m\u001b[0m\u001b[0m\n\u001b[0;32m---> 10\u001b[0;31m             \u001b[0;32mif\u001b[0m \u001b[0mi\u001b[0m\u001b[0;34m*\u001b[0m\u001b[0mi\u001b[0m \u001b[0;34m>\u001b[0m \u001b[0mn\u001b[0m\u001b[0;34m:\u001b[0m \u001b[0;32mbreak\u001b[0m\u001b[0;34m\u001b[0m\u001b[0;34m\u001b[0m\u001b[0m\n\u001b[0m\u001b[1;32m     11\u001b[0m             \u001b[0;32mif\u001b[0m \u001b[0mn\u001b[0m\u001b[0;34m%\u001b[0m\u001b[0mi\u001b[0m\u001b[0;34m==\u001b[0m\u001b[0;36m0\u001b[0m\u001b[0;34m:\u001b[0m\u001b[0;34m\u001b[0m\u001b[0;34m\u001b[0m\u001b[0m\n\u001b[1;32m     12\u001b[0m                 \u001b[0mprime\u001b[0m \u001b[0;34m=\u001b[0m \u001b[0;32mFalse\u001b[0m\u001b[0;34m\u001b[0m\u001b[0;34m\u001b[0m\u001b[0m\n",
      "\u001b[0;31mKeyboardInterrupt\u001b[0m: "
     ]
    }
   ],
   "source": [
    "# Problem 187\n",
    "\n",
    "def primes(num):\n",
    "    if num == 3: return [2]\n",
    "    lst = [2]\n",
    "    n = 3\n",
    "    while n < num:\n",
    "        prime = True\n",
    "        for i in lst:\n",
    "            if i*i > n: break\n",
    "            if n%i==0:\n",
    "                prime = False\n",
    "                break\n",
    "        if prime==True: lst.append(n)\n",
    "        n+=2\n",
    "    return lst\n",
    "n = 100000000\n",
    "\n",
    "lst = primes(n//2)\n",
    "\n",
    "composites = {4}\n",
    "\n",
    "for i in lst:\n",
    "    \n",
    "    for j in lst:\n",
    "        \n",
    "        if i*j < n: composites.add(i*j)\n",
    "        else: break\n",
    "            \n",
    "print(len(composites))"
   ]
  },
  {
   "cell_type": "code",
   "execution_count": 184,
   "id": "c7269d2f",
   "metadata": {},
   "outputs": [
    {
     "name": "stdout",
     "output_type": "stream",
     "text": [
      "1389019170 1929374254627488900\n"
     ]
    }
   ],
   "source": [
    "# Problem 206\n",
    "\n",
    "def tester206(num):\n",
    "    sq = num*num\n",
    "    if sq < 10203040506070809: return False\n",
    "    if sq%10 != 9: return False\n",
    "    sqstr = str(sq)\n",
    "    for i in range(8):\n",
    "        if int(sqstr[2*i])!=i+1: return False\n",
    "    return True\n",
    "\n",
    "for i in range(10000,1000000000):\n",
    "    if tester206(i):\n",
    "        print(i*10,(i*i*100))\n",
    "        break\n",
    "        \n"
   ]
  },
  {
   "cell_type": "code",
   "execution_count": 208,
   "id": "4f06e8fb",
   "metadata": {},
   "outputs": [
    {
     "name": "stdout",
     "output_type": "stream",
     "text": [
      "3\n",
      "7\n",
      "61\n"
     ]
    }
   ],
   "source": [
    "# Problem 282\n",
    "\n",
    "def ackermann(m,n):\n",
    "    if m==0: return n+1\n",
    "    if m > 0 and n==0: return ackermann(m-1,1)\n",
    "    return ackermann(m-1,ackermann(m,n-1))\n",
    "m = 1\n",
    "n = 0\n",
    "#print(ackermann(m,n))\n",
    "m = n = 2\n",
    "#print(ackermann(m,n))\n",
    "m = 3\n",
    "n = 4\n",
    "#print(ackermann(m,n))\n",
    "\n",
    "for i in range(1,4):\n",
    "    print(ackermann(i,i))"
   ]
  },
  {
   "cell_type": "code",
   "execution_count": 203,
   "id": "ccb99190",
   "metadata": {},
   "outputs": [
    {
     "name": "stdout",
     "output_type": "stream",
     "text": [
      "32768\n",
      "156728328192\n"
     ]
    }
   ],
   "source": [
    "# Problem 300\n",
    "\n",
    "print(2**15)\n"
   ]
  },
  {
   "cell_type": "code",
   "execution_count": null,
   "id": "86d7519a",
   "metadata": {},
   "outputs": [],
   "source": [
    "# Problem 303\n",
    "def fun(num):\n",
    "    l = ['0','1','2']\n",
    "    x = 0\n",
    "    multiplier = 0\n",
    "    done = False\n",
    "    while done == False:\n",
    "        multiplier += 1\n",
    "        x = str(num*multiplier)\n",
    "        done = True\n",
    "        for i in x:\n",
    "            if i not in l:\n",
    "                done = False\n",
    "                break\n",
    "    return multiplier\n",
    "print(fun(999))\n",
    "# answer = 0\n",
    "# for i in range(1,101):\n",
    "#     a = fun(i)\n",
    "#     answer += a\n",
    "# print(answer)"
   ]
  },
  {
   "cell_type": "code",
   "execution_count": null,
   "id": "dd6b04c2",
   "metadata": {},
   "outputs": [],
   "source": [
    "# Problem 668\n",
    "def smooth(num):\n",
    "    if num == 1: return True\n",
    "    \n",
    "    return"
   ]
  },
  {
   "cell_type": "code",
   "execution_count": 125,
   "id": "f1985211",
   "metadata": {},
   "outputs": [
    {
     "name": "stdout",
     "output_type": "stream",
     "text": [
      "2\n",
      "4\n",
      "8\n",
      "16\n",
      "32\n",
      "64\n",
      "12\n",
      "24\n",
      "48\n",
      "96\n",
      "19\n",
      "38\n",
      "76\n",
      "15\n",
      "30\n",
      "60\n",
      "12\n",
      "2\n",
      "4\n",
      "8\n",
      "16\n",
      "32\n",
      "64\n",
      "128\n",
      "256\n",
      "512\n",
      "1024\n",
      "2048\n",
      "4096\n",
      "8192\n",
      "16384\n",
      "32768\n",
      "65536\n",
      "131072\n",
      "262144\n",
      "524288\n"
     ]
    }
   ],
   "source": [
    "# Problem 686"
   ]
  },
  {
   "cell_type": "code",
   "execution_count": 196,
   "id": "209d912e",
   "metadata": {},
   "outputs": [
    {
     "name": "stdout",
     "output_type": "stream",
     "text": [
      "11\n",
      "31\n",
      "71\n",
      "91\n",
      "32\n",
      "92\n",
      "13\n",
      "73\n",
      "14\n",
      "34\n",
      "74\n",
      "35\n",
      "95\n",
      "16\n",
      "76\n",
      "17\n",
      "37\n",
      "97\n",
      "38\n",
      "98\n",
      "79\n"
     ]
    }
   ],
   "source": [
    "# Problem 719\n",
    "\n",
    "# Return [n^2 is a S number]\n",
    "def split_square(n):\n",
    "    s = n*n\n",
    "    \n",
    "    "
   ]
  },
  {
   "cell_type": "code",
   "execution_count": 54,
   "id": "f3622e0b",
   "metadata": {},
   "outputs": [
    {
     "name": "stdout",
     "output_type": "stream",
     "text": [
      "1.689666986465454\n",
      "0.5496163368225098\n"
     ]
    },
    {
     "data": {
      "text/plain": [
       "array([ True,  True,  True,  True,  True,  True,  True,  True,  True,\n",
       "        True,  True,  True,  True,  True,  True,  True,  True,  True,\n",
       "        True,  True,  True,  True,  True,  True,  True,  True,  True,\n",
       "        True,  True,  True,  True,  True,  True])"
      ]
     },
     "execution_count": 54,
     "metadata": {},
     "output_type": "execute_result"
    }
   ],
   "source": [
    "#return list of all primes less than num\n",
    "def primes(num):\n",
    "    if num == 3: return [2]\n",
    "    lst = [2]\n",
    "    n = 3\n",
    "    while n < num:\n",
    "        prime = True\n",
    "        for i in lst:\n",
    "            if i*i > n: break\n",
    "            if n%i==0:\n",
    "                prime = False\n",
    "                break\n",
    "        if prime==True: lst.append(n)\n",
    "        n+=2\n",
    "    return lst\n",
    "import time\n",
    "\n",
    "start = time.time()\n",
    "len(primes(1000000))\n",
    "\n",
    "print(time.time() - start)\n",
    "\n",
    "import numpy\n",
    "def primesfrom2to(n):\n",
    "    \"\"\" Input n>=6, Returns a array of primes, 2 <= p < n \"\"\"\n",
    "    sieve = numpy.ones(n//3 + (n%6==2), dtype=bool)\n",
    "    for i in range(1,int(n**0.5)//3+1):\n",
    "        if sieve[i]:\n",
    "            k=3*i+1|1\n",
    "            sieve[       k*k//3     ::2*k] = False\n",
    "            sieve[k*(k-2*(i&1)+4)//3::2*k] = False\n",
    "    return numpy.r_[2,3,((3*numpy.nonzero(sieve)[0][1:]+1)|1)]\n",
    "\n",
    "start = time.time()\n",
    "len(primesfrom2to(100000000))\n",
    "\n",
    "print(time.time()-start)\n",
    "n = 100\n",
    "sieve = numpy.ones(n//3 + (n%6==2), dtype=bool)\n",
    "\n",
    "sieve"
   ]
  },
  {
   "cell_type": "code",
   "execution_count": 97,
   "id": "64991a6a",
   "metadata": {},
   "outputs": [
    {
     "name": "stdout",
     "output_type": "stream",
     "text": [
      "1177606717 14169772\n",
      "1461433738 13760607\n",
      "1745260759 13351442\n",
      "1517926306270940 13351442\n"
     ]
    }
   ],
   "source": [
    "# 1000000000 1517926264989119 14578937\n",
    "ttl = 1517926264989119\n",
    "min_coin = 14578937\n",
    "for n in range(1000000000,2000000000):    \n",
    "    chk = (1504170715041707*n) % 4503599627370517\n",
    "    if chk < min_coin:\n",
    "        ttl+=chk\n",
    "        min_coin = chk\n",
    "        print(n,chk)\n",
    "        \n",
    "print(ttl,min_coin)"
   ]
  },
  {
   "cell_type": "code",
   "execution_count": null,
   "id": "4e564140",
   "metadata": {},
   "outputs": [],
   "source": []
  }
 ],
 "metadata": {
  "kernelspec": {
   "display_name": "Python 3 (ipykernel)",
   "language": "python",
   "name": "python3"
  },
  "language_info": {
   "codemirror_mode": {
    "name": "ipython",
    "version": 3
   },
   "file_extension": ".py",
   "mimetype": "text/x-python",
   "name": "python",
   "nbconvert_exporter": "python",
   "pygments_lexer": "ipython3",
   "version": "3.7.3"
  }
 },
 "nbformat": 4,
 "nbformat_minor": 5
}
